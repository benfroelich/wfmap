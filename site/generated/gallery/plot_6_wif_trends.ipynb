{
  "cells": [
    {
      "cell_type": "code",
      "execution_count": null,
      "metadata": {
        "collapsed": false
      },
      "outputs": [],
      "source": [
        "%matplotlib inline"
      ]
    },
    {
      "cell_type": "markdown",
      "metadata": {},
      "source": [
        "\nWIF Trends\n=================================\n> Wafer Trend Charts by Flash Field For Multiple Variables within Similar Range\n\nThis example demonstrates how to import a local module and how images are\nstacked when two plots are created in one code block. The variable ``N`` from\nthe example 'Local module' (file ``local_module.py``) is imported in the code\nbelow. Further, note that when there is only one code block in an example, the\noutput appears before the code block.\n"
      ]
    },
    {
      "cell_type": "code",
      "execution_count": null,
      "metadata": {
        "collapsed": false
      },
      "outputs": [],
      "source": [
        "from wfmap.data import load_data\nfrom wfmap import wif_trends\n\ndata = load_data()\nfig = wif_trends(data, ['MR', 'MR2'])"
      ]
    }
  ],
  "metadata": {
    "kernelspec": {
      "display_name": "Python 3",
      "language": "python",
      "name": "python3"
    },
    "language_info": {
      "codemirror_mode": {
        "name": "ipython",
        "version": 3
      },
      "file_extension": ".py",
      "mimetype": "text/x-python",
      "name": "python",
      "nbconvert_exporter": "python",
      "pygments_lexer": "ipython3",
      "version": "3.7.6"
    }
  },
  "nbformat": 4,
  "nbformat_minor": 0
}