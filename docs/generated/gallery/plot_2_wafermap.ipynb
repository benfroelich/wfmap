{
  "cells": [
    {
      "cell_type": "code",
      "execution_count": null,
      "metadata": {
        "collapsed": false
      },
      "outputs": [],
      "source": [
        "%matplotlib inline"
      ]
    },
    {
      "cell_type": "markdown",
      "metadata": {},
      "source": [
        "\nWaferMap\n=================================\n> Wafer Trend Charts by Flash Field For Very Different Two Variables\n\nWaferMap uses hot color(red) presents high value and cold value(blue) presents low value.\n\nuses hot/cold colors to the distribution and uniformity of\n\nnstrates how to import a local module and how images are\nstacked when two plots are created in one code block. The variable ``N`` from\nthe example 'Local module' (file ``local_module.py``) is imported in the code\nbelow. Further, note that when there is only one code block in an example, the\noutput appears before the code block.\n"
      ]
    },
    {
      "cell_type": "code",
      "execution_count": null,
      "metadata": {
        "collapsed": false
      },
      "outputs": [],
      "source": [
        "from wfmap.data import load_data\nfrom wfmap import wafermap\n\ndata = load_data()\nfig = wafermap(data, 'MR', wftype='UP3')"
      ]
    }
  ],
  "metadata": {
    "kernelspec": {
      "display_name": "Python 3",
      "language": "python",
      "name": "python3"
    },
    "language_info": {
      "codemirror_mode": {
        "name": "ipython",
        "version": 3
      },
      "file_extension": ".py",
      "mimetype": "text/x-python",
      "name": "python",
      "nbconvert_exporter": "python",
      "pygments_lexer": "ipython3",
      "version": "3.7.6"
    }
  },
  "nbformat": 4,
  "nbformat_minor": 0
}