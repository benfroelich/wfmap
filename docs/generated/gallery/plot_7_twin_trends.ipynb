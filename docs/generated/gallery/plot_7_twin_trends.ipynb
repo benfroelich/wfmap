{
  "cells": [
    {
      "cell_type": "code",
      "execution_count": null,
      "metadata": {
        "collapsed": false
      },
      "outputs": [],
      "source": [
        "%matplotlib inline"
      ]
    },
    {
      "cell_type": "markdown",
      "metadata": {},
      "source": [
        "\nTwinY Trends\n=================================\n> Wafer Trend Charts by Flash Field For Very Different Two Variables\n\nThis example demonstrates how to import a local module and how images are\nstacked when two plots are created in one code block. The variable ``N`` from\nthe example 'Local module' (file ``local_module.py``) is imported in the code\nbelow. Further, note that when there is only one code block in an example, the\noutput appears before the code block.\n\n_R can see the correlation between two variables more clear\n"
      ]
    },
    {
      "cell_type": "code",
      "execution_count": null,
      "metadata": {
        "collapsed": false
      },
      "outputs": [],
      "source": [
        "from wfmap.data import load_data\nfrom wfmap import twin_trends\n\ndata = load_data()\nfig = twin_trends(data, 'MR', 'HDI', keep_rng=False)\n\n\n\"\"\"\n# Twin Trends\n\nSome time it's . It's slightly different than put, it put the in secondary axis, some the two variables are have bigger gap or b.\n\nTake the Resistance of STO for example, before the OSR Wafer level rest is and while the STO_R(STO Resistance After Lapping)\n\nComparat to or put ba in the same y-axis, more,\n\nWith Different Hw and HDI_R can see the correlation between two variables more clear\n\n\"\"\""
      ]
    }
  ],
  "metadata": {
    "kernelspec": {
      "display_name": "Python 3",
      "language": "python",
      "name": "python3"
    },
    "language_info": {
      "codemirror_mode": {
        "name": "ipython",
        "version": 3
      },
      "file_extension": ".py",
      "mimetype": "text/x-python",
      "name": "python",
      "nbconvert_exporter": "python",
      "pygments_lexer": "ipython3",
      "version": "3.7.6"
    }
  },
  "nbformat": 4,
  "nbformat_minor": 0
}